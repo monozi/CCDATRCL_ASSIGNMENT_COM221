{
  "cells": [
    {
      "cell_type": "markdown",
      "metadata": {
        "id": "view-in-github",
        "colab_type": "text"
      },
      "source": [
        "<a href=\"https://colab.research.google.com/github/monozi/CCDATRCL_ASSIGNMENT_COM221/blob/main/Exercise_5.ipynb\" target=\"_parent\"><img src=\"https://colab.research.google.com/assets/colab-badge.svg\" alt=\"Open In Colab\"/></a>"
      ]
    },
    {
      "cell_type": "markdown",
      "metadata": {
        "id": "AjHIDgpRBxwL"
      },
      "source": [
        "# Exercise 5"
      ]
    },
    {
      "cell_type": "markdown",
      "metadata": {
        "id": "Yk_D3mtZBxwP"
      },
      "source": [
        "#### 1. Create a dictionary of your 10 favorite songs."
      ]
    },
    {
      "cell_type": "markdown",
      "metadata": {
        "id": "nD8FT5S9BxwQ"
      },
      "source": [
        "Example:\n",
        "\n",
        "|KEY|VALUE|\n",
        "|---|---|\n",
        "|001|My Love|\n",
        "|002|Like a rose|"
      ]
    },
    {
      "cell_type": "code",
      "execution_count": 49,
      "metadata": {
        "id": "NUzVfzlOBxwR",
        "colab": {
          "base_uri": "https://localhost:8080/"
        },
        "outputId": "560fe942-ffce-4c1a-aef3-22dd5a66b938"
      },
      "outputs": [
        {
          "output_type": "stream",
          "name": "stdout",
          "text": [
            "{'001': 'Salamat', '002': 'Ilaw', '003': 'Anchor', '004': 'Maskara', '005': 'Janice', '006': '3019', '007': 'Sansinukob', '008': 'Kaloy', '009': 'Uhaw', '010': 'Orasa'}\n"
          ]
        }
      ],
      "source": [
        "# put your answer here\n",
        "myVibe = {\n",
        "  \"001\": \"Salamat\",\n",
        "  \"002\": \"Ilaw\",\n",
        "  \"003\": \"Anchor\",\n",
        "  \"004\": \"Maskara\",\n",
        "  \"005\": \"Janice\",\n",
        "  \"006\": \"3019\",\n",
        "  \"007\": \"Sansinukob\",\n",
        "  \"008\": \"Kaloy\",\n",
        "  \"009\": \"Uhaw\",\n",
        "  \"010\": \"Orasa\"\n",
        "}\n",
        "print(myVibe)"
      ]
    },
    {
      "cell_type": "markdown",
      "metadata": {
        "id": "ZX8v80gjBxwT"
      },
      "source": [
        "#### 2. Loop through the dictionary by its **key** and **value**"
      ]
    },
    {
      "cell_type": "code",
      "execution_count": 50,
      "metadata": {
        "id": "GBf5hVKQBxwU",
        "colab": {
          "base_uri": "https://localhost:8080/"
        },
        "outputId": "3b8a586a-1901-41e9-dcfd-14ebb393d149"
      },
      "outputs": [
        {
          "output_type": "stream",
          "name": "stdout",
          "text": [
            "001 Salamat\n",
            "002 Ilaw\n",
            "003 Anchor\n",
            "004 Maskara\n",
            "005 Janice\n",
            "006 3019\n",
            "007 Sansinukob\n",
            "008 Kaloy\n",
            "009 Uhaw\n",
            "010 Orasa\n"
          ]
        }
      ],
      "source": [
        "# put your answer here\n",
        "for k, v in myVibe.items():\n",
        "  print(k, v)"
      ]
    },
    {
      "cell_type": "markdown",
      "metadata": {
        "id": "RGLIjQPlBxwV"
      },
      "source": [
        "#### 3. Add one additional song"
      ]
    },
    {
      "cell_type": "code",
      "execution_count": 51,
      "metadata": {
        "id": "rtZ9JGfpBxwV",
        "colab": {
          "base_uri": "https://localhost:8080/"
        },
        "outputId": "57f72b61-3341-47f2-c3dd-d9ae73cc82d4"
      },
      "outputs": [
        {
          "output_type": "execute_result",
          "data": {
            "text/plain": [
              "{'001': 'Salamat',\n",
              " '002': 'Ilaw',\n",
              " '003': 'Anchor',\n",
              " '004': 'Maskara',\n",
              " '005': 'Janice',\n",
              " '006': '3019',\n",
              " '007': 'Sansinukob',\n",
              " '008': 'Kaloy',\n",
              " '009': 'Uhaw',\n",
              " '010': 'Orasa',\n",
              " '011': \"Killin' Me Good \"}"
            ]
          },
          "metadata": {},
          "execution_count": 51
        }
      ],
      "source": [
        "# put your answer here\n",
        "myVibe[\"011\"] = \"Killin' Me Good \"\n",
        "myVibe"
      ]
    },
    {
      "cell_type": "markdown",
      "metadata": {
        "id": "n1z3Ch_9BxwW"
      },
      "source": [
        "#### 4. Remove one song"
      ]
    },
    {
      "cell_type": "code",
      "execution_count": 52,
      "metadata": {
        "id": "_QfoIfScBxwW",
        "colab": {
          "base_uri": "https://localhost:8080/"
        },
        "outputId": "e056885a-e387-4ad5-a845-d533dced789e"
      },
      "outputs": [
        {
          "output_type": "execute_result",
          "data": {
            "text/plain": [
              "{'001': 'Salamat',\n",
              " '002': 'Ilaw',\n",
              " '003': 'Anchor',\n",
              " '004': 'Maskara',\n",
              " '005': 'Janice',\n",
              " '006': '3019',\n",
              " '007': 'Sansinukob',\n",
              " '008': 'Kaloy',\n",
              " '010': 'Orasa',\n",
              " '011': \"Killin' Me Good \"}"
            ]
          },
          "metadata": {},
          "execution_count": 52
        }
      ],
      "source": [
        "# put your answer here\n",
        "myVibe.pop(\"009\")\n",
        "myVibe"
      ]
    },
    {
      "cell_type": "markdown",
      "metadata": {
        "id": "lClZgnlfBxwX"
      },
      "source": [
        "#### 5. Create a nested dictionary of your 10 favorite songs with 5 genres. Display all of the items of the nested dictionary\n",
        "\n",
        "- Each nested dictionary's key should be the genre of the song\n",
        "- Put each song in their respective genre"
      ]
    },
    {
      "cell_type": "markdown",
      "metadata": {
        "id": "gQgvmQUDBxwY"
      },
      "source": [
        "Example:\n",
        "\n",
        "\n",
        "|KEY|VALUE|\n",
        "|---|---|\n",
        "|Pop|{001, Baby}|\n",
        "|Rock|{001, Enter Sandman}|"
      ]
    },
    {
      "cell_type": "code",
      "execution_count": 53,
      "metadata": {
        "id": "3kRT6HAABxwY",
        "colab": {
          "base_uri": "https://localhost:8080/"
        },
        "outputId": "b0917978-adb1-42da-ffd1-64e445876c8e"
      },
      "outputs": [
        {
          "output_type": "stream",
          "name": "stdout",
          "text": [
            "Indie {'001': 'Orasa', '002': 'Ilaw'}\n",
            "Hip-hop {'001': 'Homebody', '002': 'Flaker'}\n",
            "Pop {'001': \"Boy's a Liar pt.2\", '002': 'Cupid (Twin Version)'}\n",
            "Jazz {'001': 'What a Wonderful World', '002': 'Fly me to the Moon'}\n",
            "Rhythm and Blues {'001': 'Always', '002': 'The Feels'}\n"
          ]
        }
      ],
      "source": [
        "# put your answer here\n",
        "myFav = {\n",
        "  \"Indie\" : {\n",
        "    \"001\" : \"Orasa\",\n",
        "    \"002\" : \"Ilaw\"\n",
        "  },\n",
        "  \"Hip-hop\" : {\n",
        "    \"001\" : \"Homebody\",\n",
        "    \"002\" : \"Flaker\"\n",
        "  },\n",
        "  \"Pop\" : {\n",
        "    \"001\" : \"Boy's a Liar pt.2\",\n",
        "    \"002\" : \"Cupid (Twin Version)\"\n",
        "  },\n",
        "  \"Jazz\" : {\n",
        "    \"001\" : \"What a Wonderful World\",\n",
        "    \"002\" : \"Fly me to the Moon\"\n",
        "  },\n",
        "  \"Rhythm and Blues\" : {\n",
        "    \"001\" : \"Always\",\n",
        "    \"002\" : \"The Feels\"\n",
        "  }\n",
        "}\n",
        "for g, s in myFav.items():\n",
        "  print(g, s)"
      ]
    },
    {
      "cell_type": "markdown",
      "metadata": {
        "id": "NNKvOQ9IBxwZ"
      },
      "source": [
        "#### 6. Print the first song of the first genre"
      ]
    },
    {
      "cell_type": "code",
      "execution_count": 54,
      "metadata": {
        "id": "Wv95h5FTBxwZ",
        "colab": {
          "base_uri": "https://localhost:8080/"
        },
        "outputId": "20ec9382-d68b-4ac9-a8eb-0e40bbf3996f"
      },
      "outputs": [
        {
          "output_type": "stream",
          "name": "stdout",
          "text": [
            "Orasa\n"
          ]
        }
      ],
      "source": [
        "# put your answer here\n",
        "print(myFav[\"Indie\"][\"001\"])"
      ]
    },
    {
      "cell_type": "markdown",
      "metadata": {
        "id": "6bFxveBWBxwa"
      },
      "source": [
        "#### 7. Print the first song of the last genre"
      ]
    },
    {
      "cell_type": "code",
      "execution_count": 55,
      "metadata": {
        "id": "YubrehvfBxwa",
        "colab": {
          "base_uri": "https://localhost:8080/"
        },
        "outputId": "dc1cfbf9-b0e9-44f1-c696-407718a246d1"
      },
      "outputs": [
        {
          "output_type": "stream",
          "name": "stdout",
          "text": [
            "Always\n"
          ]
        }
      ],
      "source": [
        "# put your answer here\n",
        "print(myFav[\"Rhythm and Blues\"][\"001\"])"
      ]
    }
  ],
  "metadata": {
    "kernelspec": {
      "display_name": "Python 3",
      "language": "python",
      "name": "python3"
    },
    "language_info": {
      "codemirror_mode": {
        "name": "ipython",
        "version": 3
      },
      "file_extension": ".py",
      "mimetype": "text/x-python",
      "name": "python",
      "nbconvert_exporter": "python",
      "pygments_lexer": "ipython3",
      "version": "3.11.4"
    },
    "orig_nbformat": 4,
    "colab": {
      "provenance": [],
      "include_colab_link": true
    }
  },
  "nbformat": 4,
  "nbformat_minor": 0
}