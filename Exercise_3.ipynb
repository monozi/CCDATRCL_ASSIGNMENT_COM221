{
  "cells": [
    {
      "cell_type": "markdown",
      "metadata": {
        "id": "view-in-github",
        "colab_type": "text"
      },
      "source": [
        "<a href=\"https://colab.research.google.com/github/monozi/CCDATRCL_ASSIGNMENT_COM221/blob/main/Exercise_3.ipynb\" target=\"_parent\"><img src=\"https://colab.research.google.com/assets/colab-badge.svg\" alt=\"Open In Colab\"/></a>"
      ]
    },
    {
      "cell_type": "markdown",
      "metadata": {
        "id": "_6eAh-kDHx1i"
      },
      "source": [
        "# Exercise 3"
      ]
    },
    {
      "cell_type": "markdown",
      "metadata": {
        "id": "gKsikDCxHx1l"
      },
      "source": [
        "#### Pre-defined classes"
      ]
    },
    {
      "cell_type": "markdown",
      "metadata": {
        "id": "jqC67KTYHx1l"
      },
      "source": [
        "Pre-defined Queue class"
      ]
    },
    {
      "cell_type": "code",
      "execution_count": 275,
      "metadata": {
        "id": "SRQKz4BUHx1l"
      },
      "outputs": [],
      "source": [
        "class Queue:\n",
        "    def __init__(self):\n",
        "        self.queue = []\n",
        "\n",
        "    # Add an element\n",
        "    def enqueue(self, item):\n",
        "        self.queue.append(item)\n",
        "\n",
        "    # Remove an element\n",
        "    def dequeue(self):\n",
        "        if len(self.queue) < 1:\n",
        "            return None\n",
        "        return self.queue.pop(0)\n",
        "\n",
        "    # Display  the queue\n",
        "    def display(self):\n",
        "        print(self.queue)\n",
        "\n",
        "    def size(self):\n",
        "        return len(self.queue)\n",
        "\n",
        "    def peek(self):\n",
        "        return self.queue[0]\n"
      ]
    },
    {
      "cell_type": "markdown",
      "metadata": {
        "id": "_FYrmiRRHx1n"
      },
      "source": [
        "Pre-defined Deque class"
      ]
    },
    {
      "cell_type": "code",
      "execution_count": 276,
      "metadata": {
        "id": "WWPUJmrbHx1n"
      },
      "outputs": [],
      "source": [
        "class Deque:\n",
        "    def __init__(self):\n",
        "        self.items = []\n",
        "\n",
        "    def isEmpty(self):\n",
        "        return self.items == []\n",
        "\n",
        "    def addRear(self, item):\n",
        "        self.items.append(item)\n",
        "\n",
        "    def addFront(self, item):\n",
        "        self.items.insert(0, item)\n",
        "\n",
        "    def removeFront(self):\n",
        "        return self.items.pop(0)\n",
        "\n",
        "    def removeRear(self):\n",
        "        return self.items.pop()\n",
        "\n",
        "    def size(self):\n",
        "        return len(self.items)"
      ]
    },
    {
      "cell_type": "markdown",
      "metadata": {
        "id": "ZWDtf4wvHx1n"
      },
      "source": [
        "Pre-defined Circular Queue class"
      ]
    },
    {
      "cell_type": "code",
      "execution_count": 277,
      "metadata": {
        "id": "54t3XhaEHx1o"
      },
      "outputs": [],
      "source": [
        "class CircularQueue():\n",
        "\n",
        "    def __init__(self, k):\n",
        "        self.k = k\n",
        "        self.queue = [None] * k\n",
        "        self.head = self.tail = -1\n",
        "\n",
        "    # Insert an element into the circular queue\n",
        "    def enqueue(self, data):\n",
        "\n",
        "        if ((self.tail + 1) % self.k == self.head):\n",
        "            print(\"The circular queue is full\\n\")\n",
        "\n",
        "        elif (self.head == -1):\n",
        "            self.head = 0\n",
        "            self.tail = 0\n",
        "            self.queue[self.tail] = data\n",
        "        else:\n",
        "            self.tail = (self.tail + 1) % self.k\n",
        "            self.queue[self.tail] = data\n",
        "\n",
        "    # Delete an element from the circular queue\n",
        "    def dequeue(self):\n",
        "        if (self.head == -1):\n",
        "            print(\"The circular queue is empty\\n\")\n",
        "\n",
        "        elif (self.head == self.tail):\n",
        "            temp = self.queue[self.head]\n",
        "            self.head = -1\n",
        "            self.tail = -1\n",
        "            return temp\n",
        "        else:\n",
        "            temp = self.queue[self.head]\n",
        "            self.head = (self.head + 1) % self.k\n",
        "            return temp\n",
        "\n",
        "    def printCQueue(self):\n",
        "        if(self.head == -1):\n",
        "            print(\"No element in the circular queue\")\n",
        "\n",
        "        elif (self.tail >= self.head):\n",
        "            for i in range(self.head, self.tail + 1):\n",
        "                print(self.queue[i], end=\" \")\n",
        "            print()\n",
        "        else:\n",
        "            for i in range(self.head, self.k):\n",
        "                print(self.queue[i], end=\" \")\n",
        "            for i in range(0, self.tail + 1):\n",
        "                print(self.queue[i], end=\" \")\n",
        "            print()\n"
      ]
    },
    {
      "cell_type": "markdown",
      "metadata": {
        "id": "Q7k4bI2JHx1p"
      },
      "source": [
        "Pre-defined Priority Queue Class"
      ]
    },
    {
      "cell_type": "code",
      "execution_count": 278,
      "metadata": {
        "id": "IaAYMtdoHx1p"
      },
      "outputs": [],
      "source": [
        "class PriorityQueueNode:\n",
        "    def __init__(self, value, pr):\n",
        "\n",
        "        self.data = value\n",
        "        self.priority = pr\n",
        "        self.next = None"
      ]
    },
    {
      "cell_type": "code",
      "execution_count": 279,
      "metadata": {
        "id": "fwiU2Z_nHx1p"
      },
      "outputs": [],
      "source": [
        "class PriorityQueue:\n",
        "\n",
        "\tdef __init__(self):\n",
        "\n",
        "\t\tself.front = None\n",
        "\n",
        "\t# Method to check Priority Queue is Empty\n",
        "\t# or not if Empty then it will return True\n",
        "\t# Otherwise False\n",
        "\tdef isEmpty(self):\n",
        "\n",
        "\t\treturn True if self.front == None else False\n",
        "\n",
        "\t# Method to add items in Priority Queue\n",
        "\t# According to their priority value\n",
        "\tdef push(self, value, priority):\n",
        "\n",
        "\t\t# Condition check for checking Priority\n",
        "\t\t# Queue is empty or not\n",
        "\t\tif self.isEmpty() == True:\n",
        "\n",
        "\t\t\t# Creating a new node and assigning\n",
        "\t\t\t# it to class variable\n",
        "\t\t\tself.front = PriorityQueueNode(value, priority)\n",
        "\n",
        "\t\t\t# Returning 1 for successful execution\n",
        "\t\t\treturn 1\n",
        "\n",
        "\t\telse:\n",
        "\n",
        "\t\t\t# Special condition check to see that\n",
        "\t\t\t# first node priority value\n",
        "\t\t\tif self.front.priority > priority:\n",
        "\t\t\t\t# Creating a new node\n",
        "\t\t\t\tnewNode = PriorityQueueNode(value, priority)\n",
        "\t\t\t\t# Updating the new node next value\n",
        "\t\t\t\tnewNode.next = self.front\n",
        "\n",
        "\t\t\t\t# Assigning it to self.front\n",
        "\t\t\t\tself.front = newNode\n",
        "\n",
        "\t\t\t\t# Returning 1 for successful execution\n",
        "\t\t\t\treturn 1\n",
        "\n",
        "\t\t\telse:\n",
        "\n",
        "\t\t\t\t# Traversing through Queue until it\n",
        "\t\t\t\t# finds the next smaller priority node\n",
        "\t\t\t\ttemp = self.front\n",
        "\n",
        "\t\t\t\twhile temp.next:\n",
        "\t\t\t\t\t# If same priority node found then current\n",
        "\t\t\t\t\t# node will come after previous node\n",
        "\t\t\t\t\tif priority <= temp.next.priority:\n",
        "\t\t\t\t\t\tbreak\n",
        "\n",
        "\t\t\t\t\ttemp = temp.next\n",
        "\n",
        "\t\t\t\tnewNode = PriorityQueueNode(value, priority)\n",
        "\t\t\t\tnewNode.next = temp.next\n",
        "\t\t\t\ttemp.next = newNode\n",
        "\n",
        "\t\t\t\t# Returning 1 for successful execution\n",
        "\t\t\t\treturn 1\n",
        "\n",
        "\t# Method to remove high priority item\n",
        "\t# from the Priority Queue\n",
        "\tdef pop(self):\n",
        "\n",
        "\t\t# Condition check for checking\n",
        "\t\t# Priority Queue is empty or not\n",
        "\t\tif self.isEmpty() == True:\n",
        "\t\t\treturn\n",
        "\t\telse:\n",
        "\t\t\t# Removing high priority node from\n",
        "\t\t\t# Priority Queue, and updating front\n",
        "\t\t\t# with next node\n",
        "\t\t\tself.front = self.front.next\n",
        "\t\t\treturn 1\n",
        "\n",
        "\t# Method to return high priority node\n",
        "\t# value Not removing it\n",
        "\tdef peek(self):\n",
        "\t\t# Condition check for checking Priority\n",
        "\t\t# Queue is empty or not\n",
        "\t\tif self.isEmpty() == True:\n",
        "\t\t\treturn\n",
        "\t\telse:\n",
        "\t\t\treturn self.front.data\n",
        "\n",
        "\t# Method to Traverse through Priority\n",
        "\t# Queue\n",
        "\tdef traverse(self):\n",
        "\t\t# Condition check for checking Priority\n",
        "\t\t# Queue is empty or not\n",
        "\t\tif self.isEmpty() == True:\n",
        "\t\t\treturn \"Queue is Empty!\"\n",
        "\t\telse:\n",
        "\t\t\ttemp = self.front\n",
        "\t\t\twhile temp:\n",
        "\t\t\t\tprint(temp.data, end=\" \")\n",
        "\t\t\t\ttemp = temp.next\n"
      ]
    },
    {
      "cell_type": "markdown",
      "metadata": {
        "id": "qegVJMsUHx1q"
      },
      "source": [
        "#### 1. Create a Queue\n",
        "\n",
        "- Each element should contain your name and your other classmates\n",
        "- There should be at least 5 elements in the queue\n",
        "- Put yourself at the end of the queue\n",
        "- Print all elements in the queue"
      ]
    },
    {
      "cell_type": "code",
      "execution_count": 280,
      "metadata": {
        "id": "6u_k1p9AHx1q",
        "colab": {
          "base_uri": "https://localhost:8080/"
        },
        "outputId": "e8082bb7-2448-4a58-9056-f52683aa647d"
      },
      "outputs": [
        {
          "output_type": "stream",
          "name": "stdout",
          "text": [
            "['Dhan', 'Robbie', 'Iber', 'Laurence', 'John']\n"
          ]
        }
      ],
      "source": [
        "# put your answer here\n",
        "klasmeyt_queue = Queue()\n",
        "\n",
        "klasmeyt_queue.enqueue(\"Dhan\")\n",
        "klasmeyt_queue.enqueue(\"Robbie\")\n",
        "klasmeyt_queue.enqueue(\"Iber\")\n",
        "klasmeyt_queue.enqueue(\"Laurence\")\n",
        "klasmeyt_queue.enqueue(\"John\")\n",
        "klasmeyt_queue.display()"
      ]
    },
    {
      "cell_type": "markdown",
      "metadata": {
        "id": "eE6Nx4p8Hx1q"
      },
      "source": [
        "#### 2. Create a Deque\n",
        "\n",
        "Given the queue below,\n",
        "\n",
        "**Queue:**\n",
        "\n",
        "| Cat | Dog | Rabbit | Bird | Hamster\n",
        "| --- | --- | --- | --- | --- |\n",
        "\n",
        "**dequeue** each element and insert them into a **Deque** in the following order below:\n",
        "\n",
        "**Deque:**\n",
        "\n",
        "| Hamster | Bird | Rabbit | Dog | Cat\n",
        "| --- | --- | --- | --- | --- |\n",
        "\n",
        "**Expected output:**\n",
        "\n",
        "['Hamster','Bird', 'Rabbit', 'Dog', 'Cat']"
      ]
    },
    {
      "cell_type": "code",
      "execution_count": 281,
      "metadata": {
        "id": "b8FKSdPmHx1q",
        "colab": {
          "base_uri": "https://localhost:8080/"
        },
        "outputId": "78df0a77-3a93-468c-acbc-d7348c58c0bc"
      },
      "outputs": [
        {
          "output_type": "stream",
          "name": "stdout",
          "text": [
            "Original Queue:\n",
            "['Cat', 'Dog', 'Rabbit', 'Bird', 'Hamster']\n",
            "\n",
            "Dequeued:\n",
            "['Dog', 'Rabbit', 'Bird', 'Hamster']\n",
            "['Rabbit', 'Bird', 'Hamster']\n",
            "['Bird', 'Hamster']\n",
            "['Hamster']\n",
            "[]\n",
            "\n",
            "Deque:\n",
            "['Hamster', 'Bird', 'Rabbit', 'Dog', 'Cat']\n"
          ]
        }
      ],
      "source": [
        "# put your answer here\n",
        "pet_queue = Queue()\n",
        "\n",
        "print(\"Original Queue:\")\n",
        "pet_queue.enqueue(\"Cat\")\n",
        "pet_queue.enqueue(\"Dog\")\n",
        "pet_queue.enqueue(\"Rabbit\")\n",
        "pet_queue.enqueue(\"Bird\")\n",
        "pet_queue.enqueue(\"Hamster\")\n",
        "pet_queue.display()\n",
        "\n",
        "print(\"\\nDequeued:\")\n",
        "while range(pet_queue.size()):\n",
        "  pet_queue.dequeue()\n",
        "  pet_queue.display()\n",
        "\n",
        "new_queue = Deque()\n",
        "\n",
        "print(\"\\nDeque:\")\n",
        "new_queue.addFront(\"Cat\")\n",
        "new_queue.addFront(\"Dog\")\n",
        "new_queue.addFront(\"Rabbit\")\n",
        "new_queue.addFront(\"Bird\")\n",
        "new_queue.addFront(\"Hamster\")\n",
        "print(new_queue.items)"
      ]
    },
    {
      "cell_type": "markdown",
      "metadata": {
        "id": "ZQi-YWcBHx1q"
      },
      "source": [
        "#### 3. Create a Circular Queue\n",
        "\n",
        "Given the queue below,\n",
        "\n",
        "**Queue:**\n",
        "\n",
        "| I | II | III | IV | V | VI | VII | VIII | IX | X | XI | XII\n",
        "| --- | --- | --- | --- | --- | --- | --- | --- | --- | --- | --- | --- |\n",
        "\n",
        "**dequeue** each element and insert them into a **Circular Deque** in the following order below:\n",
        "\n",
        "**Circular Queue:**\n",
        "\n",
        "<img src=\"clock.jpg\"/>\n",
        "\n",
        "**Expected output:**\n",
        "\n",
        "I II III IV V VI VII VIII IX X XI XII"
      ]
    },
    {
      "cell_type": "code",
      "execution_count": 282,
      "metadata": {
        "id": "s_pSCuhwHx1q",
        "colab": {
          "base_uri": "https://localhost:8080/"
        },
        "outputId": "c7aa68ff-7559-4a17-b69a-4aaab1132a45"
      },
      "outputs": [
        {
          "output_type": "stream",
          "name": "stdout",
          "text": [
            "Original Queue: \n",
            "['I', 'II', 'III', 'IV', 'V', 'VI', 'VII', 'VIII', 'IX', 'X', 'XI', 'XII']\n",
            "\n",
            "Dequeued:\n",
            "['II', 'III', 'IV', 'V', 'VI', 'VII', 'VIII', 'IX', 'X', 'XI', 'XII']\n",
            "['III', 'IV', 'V', 'VI', 'VII', 'VIII', 'IX', 'X', 'XI', 'XII']\n",
            "['IV', 'V', 'VI', 'VII', 'VIII', 'IX', 'X', 'XI', 'XII']\n",
            "['V', 'VI', 'VII', 'VIII', 'IX', 'X', 'XI', 'XII']\n",
            "['VI', 'VII', 'VIII', 'IX', 'X', 'XI', 'XII']\n",
            "['VII', 'VIII', 'IX', 'X', 'XI', 'XII']\n",
            "['VIII', 'IX', 'X', 'XI', 'XII']\n",
            "['IX', 'X', 'XI', 'XII']\n",
            "['X', 'XI', 'XII']\n",
            "['XI', 'XII']\n",
            "['XII']\n",
            "[]\n",
            "\n",
            "Circular Queue: \n",
            "I II III IV V VI VII VIII IX X XI XII \n"
          ]
        }
      ],
      "source": [
        "# put your answer here\n",
        "og_queue = Queue()\n",
        "\n",
        "print(\"Original Queue: \")\n",
        "og_queue.enqueue('I')\n",
        "og_queue.enqueue('II')\n",
        "og_queue.enqueue('III')\n",
        "og_queue.enqueue('IV')\n",
        "og_queue.enqueue('V')\n",
        "og_queue.enqueue('VI')\n",
        "og_queue.enqueue('VII')\n",
        "og_queue.enqueue('VIII')\n",
        "og_queue.enqueue('IX')\n",
        "og_queue.enqueue('X')\n",
        "og_queue.enqueue('XI')\n",
        "og_queue.enqueue('XII')\n",
        "og_queue.display()\n",
        "\n",
        "print(\"\\nDequeued:\")\n",
        "for i in range(og_queue.size()):\n",
        "  og_queue.dequeue()\n",
        "  og_queue.display()\n",
        "\n",
        "circularroman_queue = CircularQueue(12)\n",
        "\n",
        "print(\"\\nCircular Queue: \")\n",
        "circularroman_queue.enqueue('I')\n",
        "circularroman_queue.enqueue('II')\n",
        "circularroman_queue.enqueue('III')\n",
        "circularroman_queue.enqueue('IV')\n",
        "circularroman_queue.enqueue('V')\n",
        "circularroman_queue.enqueue('VI')\n",
        "circularroman_queue.enqueue('VII')\n",
        "circularroman_queue.enqueue('VIII')\n",
        "circularroman_queue.enqueue('IX')\n",
        "circularroman_queue.enqueue('X')\n",
        "circularroman_queue.enqueue('XI')\n",
        "circularroman_queue.enqueue('XII')\n",
        "circularroman_queue.printCQueue()"
      ]
    },
    {
      "cell_type": "markdown",
      "metadata": {
        "id": "t5xz1A-dHx1q"
      },
      "source": [
        "#### 4. Create a Priority Queue\n",
        "\n",
        "Given the queue below,\n",
        "\n",
        "**Queue:**\n",
        "\n",
        "| Cat | Dog | Rabbit | Bird | Hamster\n",
        "| --- | --- | --- | --- | --- |\n",
        "\n",
        "\n",
        "**dequeue** each element and insert them into a **Priority Queue** with the following priority values\n",
        "\n",
        "**Priority Queue:**\n",
        "\n",
        "| Element | Priority |\n",
        "| --- | --- |\n",
        "| Hamster |  0 |\n",
        "| Bird |  1 |\n",
        "| Rabbit |  2 |\n",
        "| Dog |  3 |\n",
        "| Cat |  4 |\n",
        "\n",
        "**Expected output:**\n",
        "\n",
        "Hamster Bird Rabbit Dog Cat"
      ]
    },
    {
      "cell_type": "code",
      "execution_count": 283,
      "metadata": {
        "id": "Ex28FOIQHx1r",
        "colab": {
          "base_uri": "https://localhost:8080/"
        },
        "outputId": "f3aecc37-3b0a-480c-e4a7-d2bbdbf47009"
      },
      "outputs": [
        {
          "output_type": "stream",
          "name": "stdout",
          "text": [
            "Pet Queue:\n",
            "['Cat', 'Dog', 'Rabbit', 'Bird', 'Hamster']\n",
            "\n",
            "Dequeued:\n",
            "['Dog', 'Rabbit', 'Bird', 'Hamster']\n",
            "['Rabbit', 'Bird', 'Hamster']\n",
            "['Bird', 'Hamster']\n",
            "['Hamster']\n",
            "[]\n",
            "\n",
            "New Pet Queue:\n",
            "Hamster Bird Rabbit Dog Cat "
          ]
        }
      ],
      "source": [
        "# put your answer here\n",
        "\n",
        "pet_queue = Queue()\n",
        "\n",
        "print(\"Pet Queue:\")\n",
        "pet_queue.enqueue(\"Cat\")\n",
        "pet_queue.enqueue(\"Dog\")\n",
        "pet_queue.enqueue(\"Rabbit\")\n",
        "pet_queue.enqueue(\"Bird\")\n",
        "pet_queue.enqueue(\"Hamster\")\n",
        "pet_queue.display()\n",
        "\n",
        "print(\"\\nDequeued:\")\n",
        "for i in range(pet_queue.size()):\n",
        "  pet_queue.dequeue()\n",
        "  pet_queue.display()\n",
        "\n",
        "newpet_queue = PriorityQueue()\n",
        "print(\"\\nNew Pet Queue:\")\n",
        "newpet_queue.push(\"Hamster\", 0)\n",
        "newpet_queue.push(\"Bird\", 1)\n",
        "newpet_queue.push(\"Rabbit\", 2)\n",
        "newpet_queue.push(\"Dog\", 3)\n",
        "newpet_queue.push(\"Cat\", 4)\n",
        "\n",
        "newpet_queue.traverse()"
      ]
    },
    {
      "cell_type": "markdown",
      "metadata": {
        "id": "LJNqAl9tHx1r"
      },
      "source": [
        "#### 5. Create a Sorted Circular Queue\n",
        "\n",
        "Given the queue below,\n",
        "\n",
        "**Queue:**\n",
        "\n",
        "| 1 | 5 | 3 | 2 | 7 | 8 | 10 | 11 | 6 | 4 | 12 | 9\n",
        "| --- | --- | --- | --- | --- | --- | --- | --- | --- | --- | --- | --- |\n",
        "\n",
        "\n",
        "**dequeue** each element and insert them into a **Circular Queue** in the following order below:\n",
        "\n",
        "**Circular Queue:**\n",
        "\n",
        "<img src=\"clock1.png\"/>\n",
        "\n",
        "**Expected output:**\n",
        "\n",
        "1 2 3 4 5 6 7 8 9 10 11 12"
      ]
    },
    {
      "cell_type": "code",
      "execution_count": 284,
      "metadata": {
        "id": "yguseYf7Hx1r",
        "colab": {
          "base_uri": "https://localhost:8080/"
        },
        "outputId": "3b7262ee-dee8-45ba-d4b8-2bda74bcd141"
      },
      "outputs": [
        {
          "output_type": "stream",
          "name": "stdout",
          "text": [
            "Queued:\n",
            "['1', '5', '3', '2', '7', '8', '10', '11', '6', '4', '12', '9']\n",
            "\n",
            "Dequeued: \n",
            "['5', '3', '2', '7', '8', '10', '11', '6', '4', '12', '9']\n",
            "['3', '2', '7', '8', '10', '11', '6', '4', '12', '9']\n",
            "['2', '7', '8', '10', '11', '6', '4', '12', '9']\n",
            "['7', '8', '10', '11', '6', '4', '12', '9']\n",
            "['8', '10', '11', '6', '4', '12', '9']\n",
            "['10', '11', '6', '4', '12', '9']\n",
            "['11', '6', '4', '12', '9']\n",
            "['6', '4', '12', '9']\n",
            "['4', '12', '9']\n",
            "['12', '9']\n",
            "['9']\n",
            "[]\n",
            "\n",
            "Sorted Circular Queue:\n",
            "1 2 3 4 5 6 7 8 9 10 11 12 \n"
          ]
        }
      ],
      "source": [
        "# put your answer here\n",
        "my_queue = Queue()\n",
        "print(\"Queued:\")\n",
        "my_queue.enqueue('1')\n",
        "my_queue.enqueue('5')\n",
        "my_queue.enqueue('3')\n",
        "my_queue.enqueue('2')\n",
        "my_queue.enqueue('7')\n",
        "my_queue.enqueue('8')\n",
        "my_queue.enqueue('10')\n",
        "my_queue.enqueue('11')\n",
        "my_queue.enqueue('6')\n",
        "my_queue.enqueue('4')\n",
        "my_queue.enqueue('12')\n",
        "my_queue.enqueue('9')\n",
        "my_queue.display()\n",
        "\n",
        "print(\"\\nDequeued: \")\n",
        "while my_queue.size() > 0:\n",
        "  my_queue.dequeue()\n",
        "  my_queue.display()\n",
        "\n",
        "circular_queue = CircularQueue(12)\n",
        "print(\"\\nSorted Circular Queue:\")\n",
        "for sorted in range(1, 13):\n",
        "  circular_queue.enqueue(sorted)\n",
        "circular_queue.printCQueue()"
      ]
    }
  ],
  "metadata": {
    "kernelspec": {
      "display_name": "Python 3",
      "language": "python",
      "name": "python3"
    },
    "language_info": {
      "codemirror_mode": {
        "name": "ipython",
        "version": 3
      },
      "file_extension": ".py",
      "mimetype": "text/x-python",
      "name": "python",
      "nbconvert_exporter": "python",
      "pygments_lexer": "ipython3",
      "version": "3.9.13"
    },
    "orig_nbformat": 4,
    "colab": {
      "provenance": [],
      "include_colab_link": true
    }
  },
  "nbformat": 4,
  "nbformat_minor": 0
}