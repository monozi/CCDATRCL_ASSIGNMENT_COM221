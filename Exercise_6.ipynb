{
  "cells": [
    {
      "cell_type": "markdown",
      "metadata": {
        "id": "view-in-github",
        "colab_type": "text"
      },
      "source": [
        "<a href=\"https://colab.research.google.com/github/monozi/CCDATRCL_ASSIGNMENT_COM221/blob/main/Exercise_6.ipynb\" target=\"_parent\"><img src=\"https://colab.research.google.com/assets/colab-badge.svg\" alt=\"Open In Colab\"/></a>"
      ]
    },
    {
      "cell_type": "markdown",
      "metadata": {
        "id": "xPaUqyUZXuB-"
      },
      "source": [
        "# Exercise 6"
      ]
    },
    {
      "cell_type": "markdown",
      "metadata": {
        "id": "7FqCNe8QXuCF"
      },
      "source": [
        "#### Pre-defined code"
      ]
    },
    {
      "cell_type": "code",
      "execution_count": 24,
      "metadata": {
        "id": "PgtRNYTVXuCG"
      },
      "outputs": [],
      "source": [
        "class Node:\n",
        "    def __init__(self, item):\n",
        "        self.left = None\n",
        "        self.right = None\n",
        "        self.val = item"
      ]
    },
    {
      "cell_type": "code",
      "execution_count": 25,
      "metadata": {
        "id": "70E7B-18XuCJ"
      },
      "outputs": [],
      "source": [
        "def inorder(root):\n",
        "\n",
        "    if root:\n",
        "        # Traverse left\n",
        "        inorder(root.left)\n",
        "        # Traverse root\n",
        "        print(str(root.val) + \"->\", end='')\n",
        "        # Traverse right\n",
        "        inorder(root.right)\n",
        "\n",
        "def postorder(root):\n",
        "\n",
        "    if root:\n",
        "        # Traverse left\n",
        "        postorder(root.left)\n",
        "        # Traverse right\n",
        "        postorder(root.right)\n",
        "        # Traverse root\n",
        "        print(str(root.val) + \"->\", end='')\n",
        "\n",
        "def preorder(root):\n",
        "\n",
        "    if root:\n",
        "        # Traverse root\n",
        "        print(str(root.val) + \"->\", end='')\n",
        "        # Traverse left\n",
        "        preorder(root.left)\n",
        "        # Traverse right\n",
        "        preorder(root.right)"
      ]
    },
    {
      "cell_type": "markdown",
      "metadata": {
        "id": "B_JiYkxdXuCK"
      },
      "source": [
        "#### 1. Construct Create your own company org chart and put yourself as CEO.\n",
        "\n",
        "Using a Tree data structure,\n",
        "\n",
        "- Assign yourself as CEO\n",
        "\n",
        "- Assign any of your classmate as HR Director\n",
        "- Assign any of your classmate as Sales Director\n",
        "\n",
        "- Assign any of your classmate as trainee. His/her boss is the HR Director\n",
        "- Assign any of your classmate as a staff and trainee. Their boss is the Sales Director\n"
      ]
    },
    {
      "cell_type": "markdown",
      "metadata": {
        "id": "TVc53lsjXuCL"
      },
      "source": [
        "<img src=\"https://thumbs.dreamstime.com/z/cartoon-organization-chart-some-company-93778925.jpg\"/>"
      ]
    },
    {
      "cell_type": "code",
      "execution_count": 26,
      "metadata": {
        "id": "4Hkn9u7FXuCM"
      },
      "outputs": [],
      "source": [
        "# put your answer here\n",
        "root = Node(\"CEO | John\")\n",
        "root.left = Node(\"HR | Dhan Michael\")\n",
        "root.left.left = Node(\"TRAINEE | Robbie Christian\")\n",
        "root.right = Node(\"SALES | Iber Joseph\")\n",
        "root.right.right = Node(\"STAFF | Andrew Laurence\")\n",
        "root.right.left = Node(\"TRAINEE | Franze Carlo\")"
      ]
    },
    {
      "cell_type": "markdown",
      "metadata": {
        "id": "OxcGkROdXuCN"
      },
      "source": [
        "#### 2. Traverse the tree in in-order traversal"
      ]
    },
    {
      "cell_type": "code",
      "execution_count": 27,
      "metadata": {
        "id": "91Wet_RCXuCN",
        "colab": {
          "base_uri": "https://localhost:8080/"
        },
        "outputId": "2f5f5660-31c8-47fa-b2fe-6a10185d4607"
      },
      "outputs": [
        {
          "output_type": "stream",
          "name": "stdout",
          "text": [
            "In-order Traversal:\n",
            "TRAINEE | Robbie Christian->HR | Dhan Michael->CEO | John->TRAINEE | Franze Carlo->SALES | Iber Joseph->STAFF | Andrew Laurence->"
          ]
        }
      ],
      "source": [
        "# put your answer here\n",
        "print(\"In-order Traversal:\")\n",
        "inorder(root)"
      ]
    },
    {
      "cell_type": "markdown",
      "metadata": {
        "id": "xtwtd-rrXuCO"
      },
      "source": [
        "#### 3. Traverse the tree in pre-order traversal"
      ]
    },
    {
      "cell_type": "code",
      "execution_count": 28,
      "metadata": {
        "id": "bNUN6LIjXuCP",
        "colab": {
          "base_uri": "https://localhost:8080/"
        },
        "outputId": "04ac4621-89de-43f7-ddd1-934bc27b1d9c"
      },
      "outputs": [
        {
          "output_type": "stream",
          "name": "stdout",
          "text": [
            "Pre-order Traversal:\n",
            "CEO | John->HR | Dhan Michael->TRAINEE | Robbie Christian->SALES | Iber Joseph->TRAINEE | Franze Carlo->STAFF | Andrew Laurence->"
          ]
        }
      ],
      "source": [
        "# put your answer here\n",
        "print(\"Pre-order Traversal:\")\n",
        "preorder(root)"
      ]
    },
    {
      "cell_type": "markdown",
      "metadata": {
        "id": "AZfadr0JXuCQ"
      },
      "source": [
        "#### 4. Traverse the tree in post-order traversal"
      ]
    },
    {
      "cell_type": "code",
      "execution_count": 29,
      "metadata": {
        "id": "HNJciROQXuCS",
        "colab": {
          "base_uri": "https://localhost:8080/"
        },
        "outputId": "fe9c8ee0-a821-4313-a846-f46312393506"
      },
      "outputs": [
        {
          "output_type": "stream",
          "name": "stdout",
          "text": [
            "Post-order Traversal:\n",
            "TRAINEE | Robbie Christian->HR | Dhan Michael->TRAINEE | Franze Carlo->STAFF | Andrew Laurence->SALES | Iber Joseph->CEO | John->"
          ]
        }
      ],
      "source": [
        "# put your answer here\n",
        "print(\"Post-order Traversal:\")\n",
        "postorder(root)"
      ]
    }
  ],
  "metadata": {
    "kernelspec": {
      "display_name": "Python 3",
      "language": "python",
      "name": "python3"
    },
    "language_info": {
      "codemirror_mode": {
        "name": "ipython",
        "version": 3
      },
      "file_extension": ".py",
      "mimetype": "text/x-python",
      "name": "python",
      "nbconvert_exporter": "python",
      "pygments_lexer": "ipython3",
      "version": "3.11.4"
    },
    "orig_nbformat": 4,
    "colab": {
      "provenance": [],
      "include_colab_link": true
    }
  },
  "nbformat": 4,
  "nbformat_minor": 0
}