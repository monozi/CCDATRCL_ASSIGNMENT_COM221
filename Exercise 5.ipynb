{
  "cells": [
    {
      "cell_type": "markdown",
      "metadata": {
        "id": "view-in-github",
        "colab_type": "text"
      },
      "source": [
        "<a href=\"https://colab.research.google.com/github/monozi/CCDATRCL_ASSIGNMENT_COM221/blob/main/Exercise%205.ipynb\" target=\"_parent\"><img src=\"https://colab.research.google.com/assets/colab-badge.svg\" alt=\"Open In Colab\"/></a>"
      ]
    },
    {
      "cell_type": "markdown",
      "metadata": {
        "id": "AjHIDgpRBxwL"
      },
      "source": [
        "# Exercise 5"
      ]
    },
    {
      "cell_type": "markdown",
      "metadata": {
        "id": "Yk_D3mtZBxwP"
      },
      "source": [
        "#### 1. Create a dictionary of your 10 favorite songs."
      ]
    },
    {
      "cell_type": "markdown",
      "metadata": {
        "id": "nD8FT5S9BxwQ"
      },
      "source": [
        "Example:\n",
        "\n",
        "|KEY|VALUE|\n",
        "|---|---|\n",
        "|001|My Love|\n",
        "|002|Like a rose|"
      ]
    },
    {
      "cell_type": "code",
      "execution_count": 42,
      "metadata": {
        "id": "NUzVfzlOBxwR",
        "colab": {
          "base_uri": "https://localhost:8080/"
        },
        "outputId": "e74b9190-dbb9-46f1-87c1-0c221a119690"
      },
      "outputs": [
        {
          "output_type": "stream",
          "name": "stdout",
          "text": [
            "{'001': 'Salamat', '002': 'Ilaw', '003': 'Anchor', '004': 'Maskara', '005': 'Janice', '006': '3019', '007': 'Sansinukob', '008': 'Kaloy', '009': 'Uhaw', '010': 'Orasa'}\n"
          ]
        }
      ],
      "source": [
        "# put your answer here\n",
        "myVibe = {\n",
        "  \"001\": \"Salamat\",\n",
        "  \"002\": \"Ilaw\",\n",
        "  \"003\": \"Anchor\",\n",
        "  \"004\": \"Maskara\",\n",
        "  \"005\": \"Janice\",\n",
        "  \"006\": \"3019\",\n",
        "  \"007\": \"Sansinukob\",\n",
        "  \"008\": \"Kaloy\",\n",
        "  \"009\": \"Uhaw\",\n",
        "  \"010\": \"Orasa\"\n",
        "}\n",
        "print(myVibe)"
      ]
    },
    {
      "cell_type": "markdown",
      "metadata": {
        "id": "ZX8v80gjBxwT"
      },
      "source": [
        "#### 2. Loop through the dictionary by its **key** and **value**"
      ]
    },
    {
      "cell_type": "code",
      "execution_count": 43,
      "metadata": {
        "id": "GBf5hVKQBxwU",
        "colab": {
          "base_uri": "https://localhost:8080/"
        },
        "outputId": "7caee8b5-7eb2-454c-a614-73309b891871"
      },
      "outputs": [
        {
          "output_type": "stream",
          "name": "stdout",
          "text": [
            "001 Salamat\n",
            "002 Ilaw\n",
            "003 Anchor\n",
            "004 Maskara\n",
            "005 Janice\n",
            "006 3019\n",
            "007 Sansinukob\n",
            "008 Kaloy\n",
            "009 Uhaw\n",
            "010 Orasa\n"
          ]
        }
      ],
      "source": [
        "# put your answer here\n",
        "for k, v in myVibe.items():\n",
        "  print(k, v)"
      ]
    },
    {
      "cell_type": "markdown",
      "metadata": {
        "id": "RGLIjQPlBxwV"
      },
      "source": [
        "#### 3. Add one additional song"
      ]
    },
    {
      "cell_type": "code",
      "execution_count": 44,
      "metadata": {
        "id": "rtZ9JGfpBxwV",
        "colab": {
          "base_uri": "https://localhost:8080/"
        },
        "outputId": "3881d9d9-974c-4ea4-b335-098f875fb91f"
      },
      "outputs": [
        {
          "output_type": "execute_result",
          "data": {
            "text/plain": [
              "{'001': 'Salamat',\n",
              " '002': 'Ilaw',\n",
              " '003': 'Anchor',\n",
              " '004': 'Maskara',\n",
              " '005': 'Janice',\n",
              " '006': '3019',\n",
              " '007': 'Sansinukob',\n",
              " '008': 'Kaloy',\n",
              " '009': 'Uhaw',\n",
              " '010': 'Orasa',\n",
              " '011': \"Killin' Me Good \"}"
            ]
          },
          "metadata": {},
          "execution_count": 44
        }
      ],
      "source": [
        "# put your answer here\n",
        "myVibe[\"011\"] = \"Killin' Me Good \"\n",
        "myVibe"
      ]
    },
    {
      "cell_type": "markdown",
      "metadata": {
        "id": "n1z3Ch_9BxwW"
      },
      "source": [
        "#### 4. Remove one song"
      ]
    },
    {
      "cell_type": "code",
      "execution_count": 45,
      "metadata": {
        "id": "_QfoIfScBxwW",
        "colab": {
          "base_uri": "https://localhost:8080/"
        },
        "outputId": "e8e808ea-4b27-4c28-9d03-6946fa84227d"
      },
      "outputs": [
        {
          "output_type": "execute_result",
          "data": {
            "text/plain": [
              "{'001': 'Salamat',\n",
              " '002': 'Ilaw',\n",
              " '003': 'Anchor',\n",
              " '004': 'Maskara',\n",
              " '005': 'Janice',\n",
              " '006': '3019',\n",
              " '007': 'Sansinukob',\n",
              " '008': 'Kaloy',\n",
              " '010': 'Orasa',\n",
              " '011': \"Killin' Me Good \"}"
            ]
          },
          "metadata": {},
          "execution_count": 45
        }
      ],
      "source": [
        "# put your answer here\n",
        "myVibe.pop(\"009\")\n",
        "myVibe"
      ]
    },
    {
      "cell_type": "markdown",
      "metadata": {
        "id": "lClZgnlfBxwX"
      },
      "source": [
        "#### 5. Create a nested dictionary of your 10 favorite songs with 5 genres. Display all of the items of the nested dictionary\n",
        "\n",
        "- Each nested dictionary's key should be the genre of the song\n",
        "- Put each song in their respective genre"
      ]
    },
    {
      "cell_type": "markdown",
      "metadata": {
        "id": "gQgvmQUDBxwY"
      },
      "source": [
        "Example:\n",
        "\n",
        "\n",
        "|KEY|VALUE|\n",
        "|---|---|\n",
        "|Pop|{001, Baby}|\n",
        "|Rock|{001, Enter Sandman}|"
      ]
    },
    {
      "cell_type": "code",
      "execution_count": 46,
      "metadata": {
        "id": "3kRT6HAABxwY",
        "colab": {
          "base_uri": "https://localhost:8080/"
        },
        "outputId": "1bf7bc03-02f6-41b6-a3d4-37b505e3004a"
      },
      "outputs": [
        {
          "output_type": "stream",
          "name": "stdout",
          "text": [
            "Indie {'001': 'Orasa', '002': 'Ilaw'}\n",
            "Hip-hop {'001': 'Homebody', '002': 'Flaker'}\n",
            "Pop {'001': \"Boy's a Liar pt.2\", '002': 'Cupid (Twin Version)'}\n",
            "Jazz {'001': 'What a Wonderful World', '002': 'Fly me to the Moon'}\n",
            "Rhythm and Blues {'001': 'Always', '002': 'The Feels'}\n"
          ]
        }
      ],
      "source": [
        "# put your answer here\n",
        "myFav = {\n",
        "  \"Indie\" : {\n",
        "    \"001\" : \"Orasa\",\n",
        "    \"002\" : \"Ilaw\"\n",
        "  },\n",
        "  \"Hip-hop\" : {\n",
        "    \"001\" : \"Homebody\",\n",
        "    \"002\" : \"Flaker\"\n",
        "  },\n",
        "  \"Pop\" : {\n",
        "    \"001\" : \"Boy's a Liar pt.2\",\n",
        "    \"002\" : \"Cupid (Twin Version)\"\n",
        "  },\n",
        "  \"Jazz\" : {\n",
        "    \"001\" : \"What a Wonderful World\",\n",
        "    \"002\" : \"Fly me to the Moon\"\n",
        "  },\n",
        "  \"Rhythm and Blues\" : {\n",
        "    \"001\" : \"Always\",\n",
        "    \"002\" : \"The Feels\"\n",
        "  }\n",
        "}\n",
        "for g, s in myFav.items():\n",
        "  print(g, s)"
      ]
    },
    {
      "cell_type": "markdown",
      "metadata": {
        "id": "NNKvOQ9IBxwZ"
      },
      "source": [
        "#### 6. Print the first song of the first genre"
      ]
    },
    {
      "cell_type": "code",
      "execution_count": 47,
      "metadata": {
        "id": "Wv95h5FTBxwZ",
        "colab": {
          "base_uri": "https://localhost:8080/"
        },
        "outputId": "78e5b923-3253-43cd-d493-d487b28d855c"
      },
      "outputs": [
        {
          "output_type": "stream",
          "name": "stdout",
          "text": [
            "Orasa\n"
          ]
        }
      ],
      "source": [
        "# put your answer here\n",
        "print(myFav[\"Indie\"][\"001\"])"
      ]
    },
    {
      "cell_type": "markdown",
      "metadata": {
        "id": "6bFxveBWBxwa"
      },
      "source": [
        "#### 7. Print the first song of the last genre"
      ]
    },
    {
      "cell_type": "code",
      "execution_count": 48,
      "metadata": {
        "id": "YubrehvfBxwa",
        "colab": {
          "base_uri": "https://localhost:8080/"
        },
        "outputId": "211574df-7d81-426f-f0da-43506a8a5625"
      },
      "outputs": [
        {
          "output_type": "stream",
          "name": "stdout",
          "text": [
            "The Feels\n"
          ]
        }
      ],
      "source": [
        "# put your answer here\n",
        "print(myFav[\"Rhythm and Blues\"][\"002\"])"
      ]
    }
  ],
  "metadata": {
    "kernelspec": {
      "display_name": "Python 3",
      "language": "python",
      "name": "python3"
    },
    "language_info": {
      "codemirror_mode": {
        "name": "ipython",
        "version": 3
      },
      "file_extension": ".py",
      "mimetype": "text/x-python",
      "name": "python",
      "nbconvert_exporter": "python",
      "pygments_lexer": "ipython3",
      "version": "3.11.4"
    },
    "orig_nbformat": 4,
    "colab": {
      "provenance": [],
      "include_colab_link": true
    }
  },
  "nbformat": 4,
  "nbformat_minor": 0
}