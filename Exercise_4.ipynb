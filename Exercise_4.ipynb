{
  "cells": [
    {
      "cell_type": "markdown",
      "metadata": {
        "id": "view-in-github",
        "colab_type": "text"
      },
      "source": [
        "<a href=\"https://colab.research.google.com/github/monozi/CCDATRCL_ASSIGNMENT_COM221/blob/main/Exercise_4.ipynb\" target=\"_parent\"><img src=\"https://colab.research.google.com/assets/colab-badge.svg\" alt=\"Open In Colab\"/></a>"
      ]
    },
    {
      "cell_type": "markdown",
      "metadata": {
        "id": "fCO3VeNzvGDc"
      },
      "source": [
        "# Exercise 4"
      ]
    },
    {
      "cell_type": "markdown",
      "metadata": {
        "id": "F8JLAmT_GW91"
      },
      "source": [
        "#### Pre-defined sorting algorithms"
      ]
    },
    {
      "cell_type": "code",
      "execution_count": 134,
      "metadata": {
        "id": "quloy6exGW92"
      },
      "outputs": [],
      "source": [
        "def mergeSort(array):\n",
        "    mergeSteps = 0\n",
        "\n",
        "    if len(array) > 1:\n",
        "\n",
        "        #  r is the point where the array is divided into two subarrays\n",
        "        r = len(array)//2\n",
        "        L = array[:r]\n",
        "        M = array[r:]\n",
        "\n",
        "        # Sort the two halves\n",
        "        mergeSteps += mergeSort(L)\n",
        "        mergeSteps += mergeSort(M)\n",
        "\n",
        "        i = j = k = 0\n",
        "        # Until we reach either end of either L or M, pick larger among\n",
        "        # elements L and M and place them in the correct position at A[p..r]\n",
        "        while i < len(L) and j < len(M):\n",
        "            if L[i] < M[j]:\n",
        "                array[k] = L[i]\n",
        "                i += 1\n",
        "            else:\n",
        "                array[k] = M[j]\n",
        "                j += 1\n",
        "            k += 1\n",
        "            mergeSteps += 1\n",
        "\n",
        "        # When we run out of elements in either L or M,\n",
        "        # pick up the remaining elements and put in A[p..r]\n",
        "        while i < len(L):\n",
        "            array[k] = L[i]\n",
        "            i += 1\n",
        "            k += 1\n",
        "\n",
        "        while j < len(M):\n",
        "            array[k] = M[j]\n",
        "            j += 1\n",
        "            k += 1\n",
        "\n",
        "    return mergeSteps\n",
        "\n",
        "# Print the array\n",
        "def printList(array):\n",
        "    for i in range(len(array)):\n",
        "        print(array[i], end=\" \")\n",
        "    print()"
      ]
    },
    {
      "cell_type": "code",
      "execution_count": 135,
      "metadata": {
        "id": "lX2z3PLjGW97"
      },
      "outputs": [],
      "source": [
        "def countingSort(array):\n",
        "    size = len(array)\n",
        "    output = [0] * size\n",
        "    countSteps = 0\n",
        "\n",
        "    # Initialize count array\n",
        "    count = [0] * 10\n",
        "\n",
        "    # Store the count of each elements in count array\n",
        "    for i in range(0, size):\n",
        "        count[array[i]] += 1\n",
        "        countSteps += 1\n",
        "\n",
        "    # Store the cummulative count\n",
        "    for i in range(1, 10):\n",
        "        count[i] += count[i - 1]\n",
        "\n",
        "\n",
        "    # Find the index of each element of the original array in count array\n",
        "    # place the elements in output array\n",
        "    i = size - 1\n",
        "    while i >= 0:\n",
        "        output[count[array[i]] - 1] = array[i]\n",
        "        count[array[i]] -= 1\n",
        "        i -= 1\n",
        "\n",
        "\n",
        "    # Copy the sorted elements into original array\n",
        "    for i in range(0, size):\n",
        "        array[i] = output[i]\n",
        "\n",
        "    return countSteps"
      ]
    },
    {
      "cell_type": "code",
      "execution_count": 136,
      "metadata": {
        "id": "wYV9qBcfGW98"
      },
      "outputs": [],
      "source": [
        "def insertionSort(array):\n",
        "    insertionSteps = 0\n",
        "\n",
        "    for step in range(1, len(array)):\n",
        "        key = array[step]\n",
        "        j = step - 1\n",
        "        insertionSteps += 1\n",
        "\n",
        "        # Compare key with each element on the left of it until an element smaller than it is found\n",
        "        # For descending order, change key<array[j] to key>array[j].\n",
        "        while j >= 0 and key < array[j]:\n",
        "            array[j + 1] = array[j]\n",
        "            j = j - 1\n",
        "            insertionSteps += 1\n",
        "\n",
        "        # Place key at after the element just smaller than it.\n",
        "        array[j + 1] = key\n",
        "\n",
        "    return insertionSteps"
      ]
    },
    {
      "cell_type": "code",
      "execution_count": 137,
      "metadata": {
        "id": "0ePrkKcPGW9-"
      },
      "outputs": [],
      "source": [
        "# Bubble sort in Python\n",
        "def bubbleSort(array):\n",
        "  bubbleSteps = 0\n",
        "\n",
        "  # loop to access each array element\n",
        "  for i in range(len(array)):\n",
        "    swapped = False\n",
        "\n",
        "    # loop to compare array elements\n",
        "    for j in range(0, len(array) - i - 1):\n",
        "\n",
        "      # compare two adjacent elements\n",
        "      # change > to < to sort in descending order\n",
        "      if array[j] > array[j + 1]:\n",
        "\n",
        "\n",
        "        # swapping elements if elements\n",
        "        # are not in the intended order\n",
        "        temp = array[j]\n",
        "        array[j] = array[j+1]\n",
        "        array[j+1] = temp\n",
        "        bubbleSteps += 1\n",
        "        swapped = True\n",
        "\n",
        "    if not swapped:\n",
        "      break\n",
        "\n",
        "  return bubbleSteps"
      ]
    },
    {
      "cell_type": "markdown",
      "metadata": {
        "id": "6j9PZVsyvGDe"
      },
      "source": [
        "#### 1. Sort your **student number** in **ascending order**\n",
        "\n",
        "Example:\n",
        "\n",
        "**Input: 2022123456**\n",
        "\n",
        "**Output: 0122223456**"
      ]
    },
    {
      "cell_type": "code",
      "execution_count": 138,
      "metadata": {
        "id": "UuNMRCm3vGDe",
        "outputId": "58d11977-0930-43cc-c5a0-e163369ec846",
        "colab": {
          "base_uri": "https://localhost:8080/"
        }
      },
      "outputs": [
        {
          "output_type": "stream",
          "name": "stdout",
          "text": [
            "Sorted in Ascending Order using Counting Sort: [0, 0, 1, 2, 2, 2, 2, 2, 3, 6]\n"
          ]
        }
      ],
      "source": [
        "# put your answer here\n",
        "\n",
        "student_number = [2, 0, 2, 2, 1, 0, 3, 2, 6, 2]\n",
        "bubbleSort(student_number)\n",
        "\n",
        "print(\"Sorted in Ascending Order using Counting Sort:\", student_number)"
      ]
    },
    {
      "cell_type": "markdown",
      "metadata": {
        "id": "felukBjnvGDf"
      },
      "source": [
        "#### 2. Sort the **dates** in **ascending order**.\n",
        "\n",
        "dates = [\"12-25-2023\", birthday, \"01-01-2023\"]\n",
        "\n",
        "Enter your birthday in the birthday variable."
      ]
    },
    {
      "cell_type": "code",
      "execution_count": 139,
      "metadata": {
        "id": "f8xQ3N0jvGDg",
        "colab": {
          "base_uri": "https://localhost:8080/"
        },
        "outputId": "d402dacc-5f34-48bc-b425-2370f0294e45"
      },
      "outputs": [
        {
          "output_type": "stream",
          "name": "stdout",
          "text": [
            "Unsorted: ['12-25-2023', '08-18-2003', '01-01-2023']\n",
            "Sorted: ['08-18-2003', '01-01-2023', '12-25-2023']\n"
          ]
        }
      ],
      "source": [
        "# put your answer here\n",
        "def date_converter(date_str):\n",
        "    from datetime import datetime\n",
        "    return datetime.strptime(date_str, \"%m-%d-%Y\")\n",
        "\n",
        "birthday = \"08-18-2003\"\n",
        "dates = [\"12-25-2023\", birthday, \"01-01-2023\"]\n",
        "print(\"Unsorted:\", dates)\n",
        "\n",
        "date_objects = [date_converter(date) for date in dates]\n",
        "insertionSort(date_objects)\n",
        "\n",
        "sorted_dates = [date.strftime(\"%m-%d-%Y\") for date in date_objects]\n",
        "print(\"Sorted:\", sorted_dates)"
      ]
    },
    {
      "cell_type": "markdown",
      "metadata": {
        "id": "IFDPeGZxvGDg"
      },
      "source": [
        "#### 3. Count the **total number of swaps** to sort the list below using **Bubble Sort**\n",
        "\n",
        "|3|2|5|1|4|\n",
        "|---|----|---|---|---|"
      ]
    },
    {
      "cell_type": "code",
      "execution_count": 140,
      "metadata": {
        "id": "b1ppwLcevGDg",
        "colab": {
          "base_uri": "https://localhost:8080/"
        },
        "outputId": "04a24d30-4ceb-4e2a-c4ef-cc71e6b12ea1"
      },
      "outputs": [
        {
          "output_type": "stream",
          "name": "stdout",
          "text": [
            "Sorted in Ascending Order using Bubble Sort: [1, 2, 3, 4, 5]\n",
            "\n",
            "Total number of swaps: 5\n"
          ]
        }
      ],
      "source": [
        "# # put your answer here\n",
        "num = [3, 2, 5, 1, 4]\n",
        "totalswaps = bubbleSort(num)\n",
        "\n",
        "print(\"Sorted in Ascending Order using Bubble Sort:\", num)\n",
        "print(\"\\nTotal number of swaps:\", totalswaps)"
      ]
    },
    {
      "cell_type": "markdown",
      "metadata": {
        "id": "iO2UusQWvGDi"
      },
      "source": [
        "#### 4. Count the **total number of steps** to sort the list below using **Insertion Sort**\n",
        "\n",
        "\n",
        "|6|2|5|7|4|1|8|9|3|\n",
        "|---|---|---|---|---|---|---|---|---|"
      ]
    },
    {
      "cell_type": "code",
      "execution_count": 141,
      "metadata": {
        "id": "vq1PYEjmvGDi",
        "colab": {
          "base_uri": "https://localhost:8080/"
        },
        "outputId": "fc9d798e-7e06-4ab0-96cc-d21d4f562522"
      },
      "outputs": [
        {
          "output_type": "stream",
          "name": "stdout",
          "text": [
            "Sorted in Ascending Order using Insertion Sort: [1, 2, 3, 4, 5, 6, 7, 8, 9]\n",
            "\n",
            "Total number of steps: 24\n"
          ]
        }
      ],
      "source": [
        "# put your answer here\n",
        "data = [6, 2, 5, 7, 4, 1, 8, 9, 3]\n",
        "numberofsteps = insertionSort(data)\n",
        "\n",
        "print(\"Sorted in Ascending Order using Insertion Sort:\", data)\n",
        "print(\"\\nTotal number of steps:\", numberofsteps)"
      ]
    },
    {
      "cell_type": "markdown",
      "metadata": {
        "id": "jpfNCCdbvGDj"
      },
      "source": [
        "#### 5. Given the list below:\n",
        "\n",
        "\n",
        "|7|5|4|3|2|5|1|8|\n",
        "|---|---|---|---|---|---|---|---|\n",
        "\n",
        "Using **merge sort** and **counting sort**\n",
        "\n",
        "Determine which sorting algorithm is faster by counting the total number of steps for each algorithm\n"
      ]
    },
    {
      "cell_type": "code",
      "execution_count": 142,
      "metadata": {
        "id": "2YVK17cSvGDj",
        "colab": {
          "base_uri": "https://localhost:8080/"
        },
        "outputId": "e3ba9c90-ed4d-4095-a922-465c98c6d786"
      },
      "outputs": [
        {
          "output_type": "stream",
          "name": "stdout",
          "text": [
            "Original Order:  [7, 5, 4, 3, 2, 5, 1, 8]\n",
            "\n",
            "Sorted using Merge Sort: [1, 2, 3, 4, 5, 5, 7, 8]\n",
            "Total number of steps using Merge Sort: 16\n",
            "\n",
            "Sorted using Counting Sort: [1, 2, 3, 4, 5, 5, 7, 8]\n",
            "Total number of steps using Counting Sort: 8\n",
            "\n",
            "Counting sort is faster\n"
          ]
        }
      ],
      "source": [
        "# put your answer here\n",
        "\n",
        "merge_sort_num_steps = 0\n",
        "counting_sort_num_steps = 0\n",
        "\n",
        "number = [7, 5, 4, 3, 2, 5, 1, 8]\n",
        "print(\"Original Order: \", number)\n",
        "\n",
        "merge_sort_num_steps = mergeSort(number)\n",
        "print(\"\\nSorted using Merge Sort:\", number)\n",
        "print(\"Total number of steps using Merge Sort:\", merge_sort_num_steps)\n",
        "\n",
        "counting_sort_num_steps = countingSort(number)\n",
        "print(\"\\nSorted using Counting Sort:\", number)\n",
        "print(\"Total number of steps using Counting Sort:\", counting_sort_num_steps)\n",
        "\n",
        "if merge_sort_num_steps < counting_sort_num_steps:\n",
        "    print(\"\\nMerge sort is faster\")\n",
        "else:\n",
        "    print(\"\\nCounting sort is faster\")"
      ]
    }
  ],
  "metadata": {
    "colab": {
      "provenance": [],
      "include_colab_link": true
    },
    "kernelspec": {
      "display_name": "Python 3",
      "language": "python",
      "name": "python3"
    },
    "language_info": {
      "codemirror_mode": {
        "name": "ipython",
        "version": 3
      },
      "file_extension": ".py",
      "mimetype": "text/x-python",
      "name": "python",
      "nbconvert_exporter": "python",
      "pygments_lexer": "ipython3",
      "version": "3.11.4"
    },
    "orig_nbformat": 4
  },
  "nbformat": 4,
  "nbformat_minor": 0
}