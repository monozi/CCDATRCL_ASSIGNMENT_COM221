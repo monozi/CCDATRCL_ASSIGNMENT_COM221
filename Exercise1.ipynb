{
  "cells": [
    {
      "cell_type": "markdown",
      "metadata": {
        "id": "h2vFiYhGzZOg"
      },
      "source": [
        "# Exercise 1"
      ]
    },
    {
      "cell_type": "markdown",
      "source": [
        "## Class Initialization"
      ],
      "metadata": {
        "id": "sRm6kPQozcaU"
      }
    },
    {
      "cell_type": "code",
      "execution_count": null,
      "metadata": {
        "id": "b1u4Dt9mzZOi"
      },
      "outputs": [],
      "source": [
        "class Node:\n",
        "    def __init__(self, data):\n",
        "        self.data = data\n",
        "        self.next = None"
      ]
    },
    {
      "cell_type": "code",
      "execution_count": null,
      "metadata": {
        "id": "tigvHSaHzZOj"
      },
      "outputs": [],
      "source": [
        "class LinkedList:\n",
        "\n",
        "    def __init__(self):\n",
        "        self.head = None\n",
        "\n",
        "    def traverse(self, node):\n",
        "        while node:\n",
        "            print(node.data, end=\" -> \")\n",
        "            node = node.next"
      ]
    },
    {
      "cell_type": "code",
      "execution_count": null,
      "metadata": {
        "id": "LIkQBioVzZOk"
      },
      "outputs": [],
      "source": [
        "class DoublyLinkedList:\n",
        "\n",
        "    def __init__(self):\n",
        "        self.head = None\n",
        "\n",
        "    def traverse(self, node):\n",
        "        while node:\n",
        "            print(node.data, end=\" -> \")\n",
        "            node = node.next"
      ]
    },
    {
      "cell_type": "code",
      "execution_count": null,
      "metadata": {
        "id": "zlxNT5EozZOl"
      },
      "outputs": [],
      "source": [
        "class CircularLinkedList:\n",
        "\n",
        "    def __init__(self):\n",
        "        self.head = None\n",
        "\n",
        "    def traverse(self, node):\n",
        "\n",
        "        head = node\n",
        "\n",
        "        while node:\n",
        "            print(node.data, end=\" -> \")\n",
        "            node = node.next\n",
        "\n",
        "            # Break to prevent infinite loop\n",
        "            if node == head:\n",
        "                break"
      ]
    },
    {
      "cell_type": "markdown",
      "metadata": {
        "id": "O68-Q1-bzZOl"
      },
      "source": [
        "#### 1. Create a Singly Linked list\n",
        "\n",
        "- Each node should contain your name and your seatmates in your row\n",
        "- Create at least 5 nodes\n",
        "- Traverse all nodes"
      ]
    },
    {
      "cell_type": "code",
      "execution_count": null,
      "metadata": {
        "id": "pTcx_OuPzZOl",
        "outputId": "2c8dfb79-7b8e-446f-ff71-f9db205b266a",
        "colab": {
          "base_uri": "https://localhost:8080/"
        }
      },
      "outputs": [
        {
          "output_type": "stream",
          "name": "stdout",
          "text": [
            "Iber -> Robbie -> Dhan -> Angelo -> Sir Elizer D. Ponio Jr. -> "
          ]
        }
      ],
      "source": [
        "# put your code here\n",
        "\n",
        "#Instance of Linked List\n",
        "linked_list = LinkedList()\n",
        "\n",
        "#Nodes\n",
        "linked_list.head = Node(\"Iber\")\n",
        "node_b = Node(\"Robbie\")\n",
        "node_c = Node(\"Dhan\")\n",
        "node_d = Node(\"Angelo\")\n",
        "node_e = Node(\"Sir Elizer D. Ponio Jr.\")\n",
        "\n",
        "#Connecting nodes\n",
        "linked_list.head.next = node_b\n",
        "node_b.next = node_c\n",
        "node_c.next = node_d\n",
        "node_d.next = node_e\n",
        "node_e.next = None\n",
        "\n",
        "linked_list.traverse(linked_list.head)"
      ]
    },
    {
      "cell_type": "markdown",
      "metadata": {
        "id": "IFgwbdw_zZOm"
      },
      "source": [
        "#### 2. Create a Doubly Linked list\n",
        "\n",
        "- Each node should contain your name and your seatmates in your row\n",
        "- Create at least 5 nodes\n",
        "- Traverse all nodes"
      ]
    },
    {
      "cell_type": "code",
      "execution_count": null,
      "metadata": {
        "id": "8kQD2A_QzZOm",
        "outputId": "bbba7456-9f7a-4ec1-c4f2-3d861bb29af5",
        "colab": {
          "base_uri": "https://localhost:8080/"
        }
      },
      "outputs": [
        {
          "output_type": "stream",
          "name": "stdout",
          "text": [
            "value of head is : Iber\n",
            "value of next to head is : Robbie\n",
            "---\n",
            "value of node_b is : Robbie\n",
            "value of previous of node_b is : Iber\n",
            "value of next of node_b is : Dhan\n",
            "---\n",
            "value of node_c is : Dhan\n",
            "value of previous of node_c is : Robbie\n",
            "---\n",
            "value of node_d is:  Angelo\n",
            "value of previous of node_d is:  Dhan\n",
            "---\n",
            "value of node_e is:  Sir Elizer D. Ponio Jr.\n",
            "value of previous of node_e is:  Angelo\n",
            "---\n",
            "Iber -> Robbie -> Dhan -> Angelo -> Sir Elizer D. Ponio Jr. -> "
          ]
        }
      ],
      "source": [
        "# put your code here\n",
        "\n",
        "#Doubly\n",
        "class Node:\n",
        "    def __init__(self, data):\n",
        "        self.data = data\n",
        "        self.next = None\n",
        "        self.prev = None\n",
        "\n",
        "#Instance of Doubly Linked List\n",
        "doubly_linked_list = DoublyLinkedList()\n",
        "\n",
        "#Nodes\n",
        "doubly_linked_list.head = Node(\"Iber\")\n",
        "node_b = Node(\"Robbie\")\n",
        "node_c = Node(\"Dhan\")\n",
        "node_d = Node(\"Angelo\")\n",
        "node_e = Node(\"Sir Elizer D. Ponio Jr.\")\n",
        "\n",
        "#Connecting nodes\n",
        "doubly_linked_list.head.prev = None\n",
        "doubly_linked_list.head.next = node_b\n",
        "\n",
        "node_b.prev = doubly_linked_list.head\n",
        "node_b.next = node_c\n",
        "\n",
        "node_c.prev = node_b\n",
        "node_c.next = node_d\n",
        "\n",
        "node_d.prev = node_c\n",
        "node_d.next = node_e\n",
        "\n",
        "node_e.prev = node_d\n",
        "node_e.next = None\n",
        "\n",
        "# Print value of each node\n",
        "print(\"value of head is :\", doubly_linked_list.head.data)\n",
        "print(\"value of next to head is :\", doubly_linked_list.head.next.data)\n",
        "\n",
        "print(\"---\")\n",
        "\n",
        "print(\"value of node_b is :\", node_b.data)\n",
        "print(\"value of previous of node_b is :\", node_b.prev.data)\n",
        "print(\"value of next of node_b is :\", node_b.next.data)\n",
        "\n",
        "print(\"---\")\n",
        "\n",
        "print(\"value of node_c is :\", node_c.data)\n",
        "print(\"value of previous of node_c is :\", node_c.prev.data)\n",
        "\n",
        "print(\"---\")\n",
        "\n",
        "print(\"value of node_d is: \", node_d.data)\n",
        "print(\"value of previous of node_d is: \", node_d.prev.data)\n",
        "\n",
        "print(\"---\")\n",
        "\n",
        "print(\"value of node_e is: \", node_e.data)\n",
        "print(\"value of previous of node_e is: \", node_e.prev.data)\n",
        "\n",
        "print(\"---\")\n",
        "\n",
        "doubly_linked_list.traverse(doubly_linked_list.head)"
      ]
    },
    {
      "cell_type": "markdown",
      "metadata": {
        "id": "rtApbsCjzZOm"
      },
      "source": [
        "#### 3. Create a Circular Linked list\n",
        "\n",
        "- Each node should contain your name and your seatmates in your row\n",
        "- Create at least 5 nodes\n",
        "- Traverse all nodes"
      ]
    },
    {
      "cell_type": "code",
      "execution_count": null,
      "metadata": {
        "id": "Gp1Oiq0jzZOn",
        "outputId": "87b122bf-9966-44b0-f79e-227e14cd9a32",
        "colab": {
          "base_uri": "https://localhost:8080/"
        }
      },
      "outputs": [
        {
          "output_type": "stream",
          "name": "stdout",
          "text": [
            "value of head is : Iber\n",
            "value of next to head is : Robbie\n",
            "---\n",
            "value of node_b is : Robbie\n",
            "value of next of node_b is : Dhan\n",
            "---\n",
            "value of node_c is : Dhan\n",
            "value of next of node_c is : Angelo\n",
            "---\n",
            "value of node_d is:  Angelo\n",
            "value of next of node_d is : Sir Elizer D. Ponio Jr.\n",
            "---\n",
            "value of node_e is:  Sir Elizer D. Ponio Jr.\n",
            "value of next of node_e is : Iber\n",
            "---\n",
            "Iber -> Robbie -> Dhan -> Angelo -> Sir Elizer D. Ponio Jr. -> "
          ]
        }
      ],
      "source": [
        "# put your code here\n",
        "\n",
        "#Instance of Circular Linked List\n",
        "circular_linked_list = CircularLinkedList()\n",
        "\n",
        "#Nodes\n",
        "circular_linked_list.head = Node(\"Iber\")\n",
        "node_b = Node(\"Robbie\")\n",
        "node_c = Node(\"Dhan\")\n",
        "node_d = Node(\"Angelo\")\n",
        "node_e = Node(\"Sir Elizer D. Ponio Jr.\")\n",
        "\n",
        "#Connecting nodes\n",
        "circular_linked_list.head.next = node_b\n",
        "\n",
        "node_b.prev = circular_linked_list.head\n",
        "node_b.next = node_c\n",
        "\n",
        "node_c.prev = node_b\n",
        "node_c.next = node_d\n",
        "\n",
        "node_d.prev = node_c\n",
        "node_d.next = node_e\n",
        "\n",
        "node_e.prev = node_d\n",
        "node_e.next = circular_linked_list.head\n",
        "\n",
        "# Print value of each node\n",
        "print(\"value of head is :\", circular_linked_list.head.data)\n",
        "print(\"value of next to head is :\", circular_linked_list.head.next.data)\n",
        "\n",
        "print(\"---\")\n",
        "\n",
        "print(\"value of node_b is :\", node_b.data)\n",
        "print(\"value of next of node_b is :\", node_b.next.data)\n",
        "\n",
        "print(\"---\")\n",
        "\n",
        "print(\"value of node_c is :\", node_c.data)\n",
        "print(\"value of next of node_c is :\", node_c.next.data)\n",
        "\n",
        "print(\"---\")\n",
        "\n",
        "print(\"value of node_d is: \", node_d.data)\n",
        "print(\"value of next of node_d is :\", node_d.next.data)\n",
        "\n",
        "print(\"---\")\n",
        "\n",
        "print(\"value of node_e is: \", node_e.data)\n",
        "print(\"value of next of node_e is :\", node_e.next.data)\n",
        "\n",
        "print(\"---\")\n",
        "\n",
        "circular_linked_list.traverse(circular_linked_list.head)"
      ]
    }
  ],
  "metadata": {
    "kernelspec": {
      "display_name": "Python 3",
      "language": "python",
      "name": "python3"
    },
    "language_info": {
      "name": "python",
      "version": "3.11.4"
    },
    "orig_nbformat": 4,
    "colab": {
      "provenance": []
    }
  },
  "nbformat": 4,
  "nbformat_minor": 0
}
