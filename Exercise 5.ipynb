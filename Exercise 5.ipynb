{
  "cells": [
    {
      "cell_type": "markdown",
      "metadata": {
        "id": "view-in-github",
        "colab_type": "text"
      },
      "source": [
        "<a href=\"https://colab.research.google.com/github/monozi/CCDATRCL_ASSIGNMENT_COM221/blob/main/Exercise%205.ipynb\" target=\"_parent\"><img src=\"https://colab.research.google.com/assets/colab-badge.svg\" alt=\"Open In Colab\"/></a>"
      ]
    },
    {
      "cell_type": "markdown",
      "metadata": {
        "id": "AjHIDgpRBxwL"
      },
      "source": [
        "# Exercise 5"
      ]
    },
    {
      "cell_type": "markdown",
      "metadata": {
        "id": "Yk_D3mtZBxwP"
      },
      "source": [
        "#### 1. Create a dictionary of your 10 favorite songs."
      ]
    },
    {
      "cell_type": "markdown",
      "metadata": {
        "id": "nD8FT5S9BxwQ"
      },
      "source": [
        "Example:\n",
        "\n",
        "|KEY|VALUE|\n",
        "|---|---|\n",
        "|001|My Love|\n",
        "|002|Like a rose|"
      ]
    },
    {
      "cell_type": "code",
      "execution_count": 35,
      "metadata": {
        "id": "NUzVfzlOBxwR",
        "colab": {
          "base_uri": "https://localhost:8080/"
        },
        "outputId": "50dc4a2c-5671-4d3d-ef1c-66f966075fdc"
      },
      "outputs": [
        {
          "output_type": "stream",
          "name": "stdout",
          "text": [
            "{'001': 'Salamat', '002': 'Ilaw', '003': 'Anchor', '004': 'Maskara', '005': 'Janice', '006': '3019', '007': 'Sansinukob', '008': 'Kaloy', '009': 'Uhaw', '010': 'Orasa'}\n"
          ]
        }
      ],
      "source": [
        "# put your answer here\n",
        "myVibe = {\n",
        "  \"001\": \"Salamat\",\n",
        "  \"002\": \"Ilaw\",\n",
        "  \"003\": \"Anchor\",\n",
        "  \"004\": \"Maskara\",\n",
        "  \"005\": \"Janice\",\n",
        "  \"006\": \"3019\",\n",
        "  \"007\": \"Sansinukob\",\n",
        "  \"008\": \"Kaloy\",\n",
        "  \"009\": \"Uhaw\",\n",
        "  \"010\": \"Orasa\"\n",
        "}\n",
        "print(myVibe)"
      ]
    },
    {
      "cell_type": "markdown",
      "metadata": {
        "id": "ZX8v80gjBxwT"
      },
      "source": [
        "#### 2. Loop through the dictionary by its **key** and **value**"
      ]
    },
    {
      "cell_type": "code",
      "execution_count": 36,
      "metadata": {
        "id": "GBf5hVKQBxwU",
        "colab": {
          "base_uri": "https://localhost:8080/"
        },
        "outputId": "7d49b593-fbc2-4745-c6fc-1a83519579a2"
      },
      "outputs": [
        {
          "output_type": "stream",
          "name": "stdout",
          "text": [
            "001 Salamat\n",
            "002 Ilaw\n",
            "003 Anchor\n",
            "004 Maskara\n",
            "005 Janice\n",
            "006 3019\n",
            "007 Sansinukob\n",
            "008 Kaloy\n",
            "009 Uhaw\n",
            "010 Orasa\n"
          ]
        }
      ],
      "source": [
        "# put your answer here\n",
        "for k, v in myVibe.items():\n",
        "  print(k, v)"
      ]
    },
    {
      "cell_type": "markdown",
      "metadata": {
        "id": "RGLIjQPlBxwV"
      },
      "source": [
        "#### 3. Add one additional song"
      ]
    },
    {
      "cell_type": "code",
      "execution_count": 37,
      "metadata": {
        "id": "rtZ9JGfpBxwV",
        "colab": {
          "base_uri": "https://localhost:8080/"
        },
        "outputId": "8d177396-89e7-4255-8208-d36e4089c361"
      },
      "outputs": [
        {
          "output_type": "execute_result",
          "data": {
            "text/plain": [
              "{'001': 'Salamat',\n",
              " '002': 'Ilaw',\n",
              " '003': 'Anchor',\n",
              " '004': 'Maskara',\n",
              " '005': 'Janice',\n",
              " '006': '3019',\n",
              " '007': 'Sansinukob',\n",
              " '008': 'Kaloy',\n",
              " '009': 'Uhaw',\n",
              " '010': 'Orasa',\n",
              " '011': \"Killin' Me Good \"}"
            ]
          },
          "metadata": {},
          "execution_count": 37
        }
      ],
      "source": [
        "# put your answer here\n",
        "myVibe[\"011\"] = \"Killin' Me Good \"\n",
        "myVibe"
      ]
    },
    {
      "cell_type": "markdown",
      "metadata": {
        "id": "n1z3Ch_9BxwW"
      },
      "source": [
        "#### 4. Remove one song"
      ]
    },
    {
      "cell_type": "code",
      "execution_count": 38,
      "metadata": {
        "id": "_QfoIfScBxwW",
        "colab": {
          "base_uri": "https://localhost:8080/"
        },
        "outputId": "ec6d9b37-1828-448d-cf2e-9675b7b031da"
      },
      "outputs": [
        {
          "output_type": "execute_result",
          "data": {
            "text/plain": [
              "{'001': 'Salamat',\n",
              " '002': 'Ilaw',\n",
              " '003': 'Anchor',\n",
              " '004': 'Maskara',\n",
              " '005': 'Janice',\n",
              " '006': '3019',\n",
              " '007': 'Sansinukob',\n",
              " '008': 'Kaloy',\n",
              " '010': 'Orasa',\n",
              " '011': \"Killin' Me Good \"}"
            ]
          },
          "metadata": {},
          "execution_count": 38
        }
      ],
      "source": [
        "# put your answer here\n",
        "myVibe.pop(\"009\")\n",
        "myVibe"
      ]
    },
    {
      "cell_type": "markdown",
      "metadata": {
        "id": "lClZgnlfBxwX"
      },
      "source": [
        "#### 5. Create a nested dictionary of your 10 favorite songs with 5 genres. Display all of the items of the nested dictionary\n",
        "\n",
        "- Each nested dictionary's key should be the genre of the song\n",
        "- Put each song in their respective genre"
      ]
    },
    {
      "cell_type": "markdown",
      "metadata": {
        "id": "gQgvmQUDBxwY"
      },
      "source": [
        "Example:\n",
        "\n",
        "\n",
        "|KEY|VALUE|\n",
        "|---|---|\n",
        "|Pop|{001, Baby}|\n",
        "|Rock|{001, Enter Sandman}|"
      ]
    },
    {
      "cell_type": "code",
      "execution_count": 39,
      "metadata": {
        "id": "3kRT6HAABxwY",
        "colab": {
          "base_uri": "https://localhost:8080/"
        },
        "outputId": "aba25f80-8d75-4faf-ff7d-c09701ec8229"
      },
      "outputs": [
        {
          "output_type": "stream",
          "name": "stdout",
          "text": [
            "Indie {'001': 'Get you', '002': 'Mad'}\n",
            "Hip-hop {'001': 'Homebody', '002': 'Flaker'}\n",
            "Pop {'001': \"Boy's a Liar pt.2\", '002': 'Cupid (Twin Version)'}\n",
            "Jazz {'001': 'What a Wonderful World', '002': 'Fly me to the Moon'}\n",
            "Rhythm and Blues {'001': 'Always', '002': 'The Feels'}\n"
          ]
        }
      ],
      "source": [
        "# put your answer here\n",
        "myFav = {\n",
        "  \"Indie\" : {\n",
        "    \"001\" : \"Get you\",\n",
        "    \"002\" : \"Mad\"\n",
        "  },\n",
        "  \"Hip-hop\" : {\n",
        "    \"001\" : \"Homebody\",\n",
        "    \"002\" : \"Flaker\"\n",
        "  },\n",
        "  \"Pop\" : {\n",
        "    \"001\" : \"Boy's a Liar pt.2\",\n",
        "    \"002\" : \"Cupid (Twin Version)\"\n",
        "  },\n",
        "  \"Jazz\" : {\n",
        "    \"001\" : \"What a Wonderful World\",\n",
        "    \"002\" : \"Fly me to the Moon\"\n",
        "  },\n",
        "  \"Rhythm and Blues\" : {\n",
        "    \"001\" : \"Always\",\n",
        "    \"002\" : \"The Feels\"\n",
        "  }\n",
        "}\n",
        "for g, s in myFav.items():\n",
        "  print(g, s)"
      ]
    },
    {
      "cell_type": "markdown",
      "metadata": {
        "id": "NNKvOQ9IBxwZ"
      },
      "source": [
        "#### 6. Print the first song of the first genre"
      ]
    },
    {
      "cell_type": "code",
      "execution_count": 40,
      "metadata": {
        "id": "Wv95h5FTBxwZ",
        "colab": {
          "base_uri": "https://localhost:8080/"
        },
        "outputId": "5512a8d7-9b36-4613-f811-bd92a170b81d"
      },
      "outputs": [
        {
          "output_type": "stream",
          "name": "stdout",
          "text": [
            "Get you\n"
          ]
        }
      ],
      "source": [
        "# put your answer here\n",
        "print(myFav[\"Indie\"][\"001\"])"
      ]
    },
    {
      "cell_type": "markdown",
      "metadata": {
        "id": "6bFxveBWBxwa"
      },
      "source": [
        "#### 7. Print the first song of the last genre"
      ]
    },
    {
      "cell_type": "code",
      "execution_count": 41,
      "metadata": {
        "id": "YubrehvfBxwa",
        "colab": {
          "base_uri": "https://localhost:8080/"
        },
        "outputId": "402fc06a-44bd-4b85-eb6e-f745cce17715"
      },
      "outputs": [
        {
          "output_type": "stream",
          "name": "stdout",
          "text": [
            "The Feels\n"
          ]
        }
      ],
      "source": [
        "# put your answer here\n",
        "print(myFav[\"Rhythm and Blues\"][\"002\"])"
      ]
    }
  ],
  "metadata": {
    "kernelspec": {
      "display_name": "Python 3",
      "language": "python",
      "name": "python3"
    },
    "language_info": {
      "codemirror_mode": {
        "name": "ipython",
        "version": 3
      },
      "file_extension": ".py",
      "mimetype": "text/x-python",
      "name": "python",
      "nbconvert_exporter": "python",
      "pygments_lexer": "ipython3",
      "version": "3.11.4"
    },
    "orig_nbformat": 4,
    "colab": {
      "provenance": [],
      "include_colab_link": true
    }
  },
  "nbformat": 4,
  "nbformat_minor": 0
}